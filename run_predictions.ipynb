{
  "nbformat": 4,
  "nbformat_minor": 0,
  "metadata": {
    "colab": {
      "provenance": [],
      "authorship_tag": "ABX9TyOooZGIMsg/iwLgNyTjUAIE",
      "include_colab_link": true
    },
    "kernelspec": {
      "name": "python3",
      "display_name": "Python 3"
    },
    "language_info": {
      "name": "python"
    }
  },
  "cells": [
    {
      "cell_type": "markdown",
      "metadata": {
        "id": "view-in-github",
        "colab_type": "text"
      },
      "source": [
        "<a href=\"https://colab.research.google.com/github/monimiller/womens_wc_23/blob/main/run_predictions.ipynb\" target=\"_parent\"><img src=\"https://colab.research.google.com/assets/colab-badge.svg\" alt=\"Open In Colab\"/></a>"
      ]
    },
    {
      "cell_type": "code",
      "source": [
        "!pip install catboost"
      ],
      "metadata": {
        "colab": {
          "base_uri": "https://localhost:8080/"
        },
        "id": "uD1pnyPr12Rl",
        "outputId": "742ed1fc-407c-41fb-9bfd-d6389db123c2"
      },
      "execution_count": 1,
      "outputs": [
        {
          "output_type": "stream",
          "name": "stdout",
          "text": [
            "Collecting catboost\n",
            "  Downloading catboost-1.2-cp310-cp310-manylinux2014_x86_64.whl (98.6 MB)\n",
            "\u001b[2K     \u001b[90m━━━━━━━━━━━━━━━━━━━━━━━━━━━━━━━━━━━━━━━━\u001b[0m \u001b[32m98.6/98.6 MB\u001b[0m \u001b[31m10.6 MB/s\u001b[0m eta \u001b[36m0:00:00\u001b[0m\n",
            "\u001b[?25hRequirement already satisfied: graphviz in /usr/local/lib/python3.10/dist-packages (from catboost) (0.20.1)\n",
            "Requirement already satisfied: matplotlib in /usr/local/lib/python3.10/dist-packages (from catboost) (3.7.1)\n",
            "Requirement already satisfied: numpy>=1.16.0 in /usr/local/lib/python3.10/dist-packages (from catboost) (1.22.4)\n",
            "Requirement already satisfied: pandas>=0.24 in /usr/local/lib/python3.10/dist-packages (from catboost) (1.5.3)\n",
            "Requirement already satisfied: scipy in /usr/local/lib/python3.10/dist-packages (from catboost) (1.10.1)\n",
            "Requirement already satisfied: plotly in /usr/local/lib/python3.10/dist-packages (from catboost) (5.13.1)\n",
            "Requirement already satisfied: six in /usr/local/lib/python3.10/dist-packages (from catboost) (1.16.0)\n",
            "Requirement already satisfied: python-dateutil>=2.8.1 in /usr/local/lib/python3.10/dist-packages (from pandas>=0.24->catboost) (2.8.2)\n",
            "Requirement already satisfied: pytz>=2020.1 in /usr/local/lib/python3.10/dist-packages (from pandas>=0.24->catboost) (2022.7.1)\n",
            "Requirement already satisfied: contourpy>=1.0.1 in /usr/local/lib/python3.10/dist-packages (from matplotlib->catboost) (1.1.0)\n",
            "Requirement already satisfied: cycler>=0.10 in /usr/local/lib/python3.10/dist-packages (from matplotlib->catboost) (0.11.0)\n",
            "Requirement already satisfied: fonttools>=4.22.0 in /usr/local/lib/python3.10/dist-packages (from matplotlib->catboost) (4.41.0)\n",
            "Requirement already satisfied: kiwisolver>=1.0.1 in /usr/local/lib/python3.10/dist-packages (from matplotlib->catboost) (1.4.4)\n",
            "Requirement already satisfied: packaging>=20.0 in /usr/local/lib/python3.10/dist-packages (from matplotlib->catboost) (23.1)\n",
            "Requirement already satisfied: pillow>=6.2.0 in /usr/local/lib/python3.10/dist-packages (from matplotlib->catboost) (8.4.0)\n",
            "Requirement already satisfied: pyparsing>=2.3.1 in /usr/local/lib/python3.10/dist-packages (from matplotlib->catboost) (3.1.0)\n",
            "Requirement already satisfied: tenacity>=6.2.0 in /usr/local/lib/python3.10/dist-packages (from plotly->catboost) (8.2.2)\n",
            "Installing collected packages: catboost\n",
            "Successfully installed catboost-1.2\n"
          ]
        }
      ]
    },
    {
      "cell_type": "code",
      "source": [
        "# Basics\n",
        "import pandas as pd\n",
        "import numpy as np\n",
        "# Viz\n",
        "import matplotlib.pyplot as plt\n",
        "import seaborn as sns\n",
        "import plotly.express as px\n",
        "#Catboost\n",
        "from catboost import CatBoostClassifier, CatBoostRegressor"
      ],
      "metadata": {
        "id": "L9ghTvMu10-I"
      },
      "execution_count": 2,
      "outputs": []
    },
    {
      "cell_type": "code",
      "execution_count": 3,
      "metadata": {
        "colab": {
          "base_uri": "https://localhost:8080/"
        },
        "id": "BXhHMnJy1n-R",
        "outputId": "7f682beb-02c3-44d2-cb7a-c7cf7937682f"
      },
      "outputs": [
        {
          "output_type": "stream",
          "name": "stdout",
          "text": [
            "--2023-07-20 01:56:51--  https://github.com/monimiller/womens_wc_23/raw/main/models/catboost_model_20230717_2123.cbm\n",
            "Resolving github.com (github.com)... 140.82.114.4\n",
            "Connecting to github.com (github.com)|140.82.114.4|:443... connected.\n",
            "HTTP request sent, awaiting response... 302 Found\n",
            "Location: https://raw.githubusercontent.com/monimiller/womens_wc_23/main/models/catboost_model_20230717_2123.cbm [following]\n",
            "--2023-07-20 01:56:51--  https://raw.githubusercontent.com/monimiller/womens_wc_23/main/models/catboost_model_20230717_2123.cbm\n",
            "Resolving raw.githubusercontent.com (raw.githubusercontent.com)... 185.199.108.133, 185.199.110.133, 185.199.109.133, ...\n",
            "Connecting to raw.githubusercontent.com (raw.githubusercontent.com)|185.199.108.133|:443... connected.\n",
            "HTTP request sent, awaiting response... 200 OK\n",
            "Length: 21314844 (20M) [application/octet-stream]\n",
            "Saving to: ‘catboost_model_20230717_2123.cbm’\n",
            "\n",
            "catboost_model_2023 100%[===================>]  20.33M   128MB/s    in 0.2s    \n",
            "\n",
            "2023-07-20 01:56:52 (128 MB/s) - ‘catboost_model_20230717_2123.cbm’ saved [21314844/21314844]\n",
            "\n"
          ]
        }
      ],
      "source": [
        "!wget https://github.com/monimiller/womens_wc_23/raw/main/models/catboost_model_20230717_2123.cbm"
      ]
    },
    {
      "cell_type": "code",
      "source": [
        "model = CatBoostClassifier().load_model(\"catboost_model_20230717_2123.cbm\")\n",
        "teams_performance = pd.read_parquet(\"team_performance_20230717.parquet.gzip\")"
      ],
      "metadata": {
        "id": "ZjvPNfNV1vPe"
      },
      "execution_count": 4,
      "outputs": []
    },
    {
      "cell_type": "code",
      "source": [
        "group_a = pd.DataFrame({\n",
        "                      'home_team': ['New Zealand', 'Philippines', 'New Zealand', 'Switzerland', 'Switzerland', 'Norway'],\n",
        "                      'away_team': ['Norway', 'Switzerland', 'Philippines', 'Norway', 'New Zealand', 'Philippines']\n",
        "                      })\n",
        "\n",
        "group_b = pd.DataFrame({\n",
        "                      'home_team': ['Australia', 'Nigeria', 'Canada', 'Australia', 'Republic of Ireland', 'Canada'],\n",
        "                      'away_team': ['Republic of Ireland', 'Canada', 'Republic of Ireland', 'Nigeria', 'Nigeria', 'Australia']\n",
        "                      })\n",
        "\n",
        "group_c = pd.DataFrame({\n",
        "                      'home_team': ['Spain', 'Zambia', 'Japan', 'Spain', 'Costa Rica', 'Japan'],\n",
        "                      'away_team': ['Costa Rica', 'Japan', 'Costa Rica', 'Zambia', 'Zambia', 'Spain']\n",
        "                      })\n",
        "\n",
        "group_d = pd.DataFrame({\n",
        "                      'home_team': ['England', 'Denmark', 'England', 'China PR', 'Haiti', 'China PR'],\n",
        "                      'away_team': ['Haiti', 'China PR', 'Denmark', 'Haiti', 'Denmark', 'England']\n",
        "                      })\n",
        "\n",
        "group_e = pd.DataFrame({\n",
        "                      'home_team': ['United States', 'Netherlands', 'United States', 'Portugal', 'Portugal', 'Vietnam'],\n",
        "                      'away_team': ['Vietnam', 'Portugal', 'Netherlands', 'Vietnam', 'United States', 'Netherlands']\n",
        "                      })\n",
        "\n",
        "group_f = pd.DataFrame({\n",
        "                      'home_team': ['France', 'Brazil', 'France', 'Panama', 'Panama', 'Jamaica'],\n",
        "                      'away_team': ['Jamaica', 'Panama', 'Brazil', 'Jamaica', 'France', 'Brazil']\n",
        "                      })\n",
        "\n",
        "group_g = pd.DataFrame({\n",
        "                      'home_team': ['Sweden', 'Italy', 'Argentina', 'Sweden', 'South Africa', 'Argentina'],\n",
        "                      'away_team': ['South Africa', 'Argentina', 'South Africa', 'Italy', 'Italy', 'Sweden']\n",
        "                      })\n",
        "\n",
        "group_h = pd.DataFrame({\n",
        "                      'home_team': ['Germany', 'Columbia', 'South Korea', 'Germany', 'South Korea', 'Morocco'],\n",
        "                      'away_team': ['Morocco', 'South Korea', 'Morocco', 'Columbia', 'Germany', 'Columbia']\n",
        "                      })"
      ],
      "metadata": {
        "id": "V5oaZ-smxH-W"
      },
      "execution_count": 8,
      "outputs": []
    },
    {
      "cell_type": "code",
      "source": [
        "def encode_variables(df):\n",
        "  \"Input a dataframe and return a dataframe whith categorical variables encoded numericaly\"\n",
        "  # Find categorical vars\n",
        "  cat_vars = df.select_dtypes(include=['object', 'category']).columns\n",
        "  # Loop and transform\n",
        "  for variable in cat_vars:\n",
        "    df[variable] = df[variable].factorize()[0]\n",
        "\n",
        "  return df"
      ],
      "metadata": {
        "id": "bhPMxE8-yEKm"
      },
      "execution_count": 6,
      "outputs": []
    },
    {
      "cell_type": "code",
      "source": [
        "groups = [group_a, group_b, group_c, group_d, group_e, group_f, group_g, group_h]\n",
        "\n",
        "def make_predictions(group_df):\n",
        "    X_input = (\n",
        "    group_df\n",
        "    .merge(teams_performance, left_on= 'home_team', right_on='team', how='left').fillna(0)\n",
        "    .merge(teams_performance, left_on= 'away_team', right_on='team', suffixes=['_home','_away'], how='left').fillna(0) )\n",
        "    X_input.drop(['team_home', 'team_away'], axis=1, inplace=True)\n",
        "\n",
        "    X_input = encode_variables(X_input)\n",
        "    # Results with CatBoost\n",
        "    preds = model.predict_proba(X_input)\n",
        "    # Predictions of the results\n",
        "    group_df['away'] = pd.DataFrame(preds)[0]\n",
        "    group_df['draw'] = pd.DataFrame(preds)[1]\n",
        "    group_df['home'] = pd.DataFrame(preds)[2]\n",
        "\n",
        "    print(group_df)\n",
        "    print('\\n')\n",
        "\n",
        "for group in groups:\n",
        "    make_predictions(group)"
      ],
      "metadata": {
        "colab": {
          "base_uri": "https://localhost:8080/"
        },
        "id": "FeO992cv4N5H",
        "outputId": "a9847299-01b1-44d3-c9c3-d9f8c89c2061"
      },
      "execution_count": 9,
      "outputs": [
        {
          "output_type": "stream",
          "name": "stdout",
          "text": [
            "     home_team    away_team      away      draw      home\n",
            "0  New Zealand       Norway  0.815434  0.167203  0.017363\n",
            "1  Philippines  Switzerland  0.060202  0.008959  0.930839\n",
            "2  New Zealand  Philippines  0.000416  0.013989  0.985596\n",
            "3  Switzerland       Norway  0.816193  0.181277  0.002531\n",
            "4  Switzerland  New Zealand  0.230713  0.582597  0.186690\n",
            "5       Norway  Philippines  0.000083  0.003750  0.996167\n",
            "\n",
            "\n",
            "             home_team            away_team          away      draw      home\n",
            "0            Australia  Republic of Ireland  4.376515e-07  0.001193  0.998806\n",
            "1              Nigeria               Canada  9.801622e-01  0.014929  0.004909\n",
            "2               Canada  Republic of Ireland  4.408379e-06  0.000599  0.999396\n",
            "3            Australia              Nigeria  1.319833e-05  0.001892  0.998095\n",
            "4  Republic of Ireland              Nigeria  9.734720e-04  0.002001  0.997025\n",
            "5               Canada            Australia  1.628516e-04  0.000845  0.998993\n",
            "\n",
            "\n",
            "    home_team   away_team      away      draw      home\n",
            "0       Spain  Costa Rica  0.000417  0.001820  0.997763\n",
            "1      Zambia       Japan  0.999960  0.000032  0.000008\n",
            "2       Japan  Costa Rica  0.000102  0.354760  0.645139\n",
            "3       Spain      Zambia  0.000239  0.000363  0.999399\n",
            "4  Costa Rica      Zambia  0.000153  0.001529  0.998318\n",
            "5       Japan       Spain  0.001486  0.505618  0.492896\n",
            "\n",
            "\n",
            "  home_team away_team      away      draw      home\n",
            "0   England     Haiti  0.000017  0.000100  0.999882\n",
            "1   Denmark  China PR  0.528401  0.454774  0.016825\n",
            "2   England   Denmark  0.165054  0.712150  0.122796\n",
            "3  China PR     Haiti  0.000019  0.000505  0.999476\n",
            "4     Haiti   Denmark  0.591332  0.407762  0.000906\n",
            "5  China PR   England  0.321040  0.069853  0.609107\n",
            "\n",
            "\n",
            "       home_team      away_team      away      draw      home\n",
            "0  United States        Vietnam  0.000001  0.000562  0.999437\n",
            "1    Netherlands       Portugal  0.014917  0.511048  0.474035\n",
            "2  United States    Netherlands  0.000002  0.001951  0.998048\n",
            "3       Portugal        Vietnam  0.000335  0.000285  0.999380\n",
            "4       Portugal  United States  0.999825  0.000024  0.000151\n",
            "5        Vietnam    Netherlands  0.301510  0.599126  0.099363\n",
            "\n",
            "\n",
            "  home_team away_team      away      draw      home\n",
            "0    France   Jamaica  0.000015  0.002464  0.997521\n",
            "1    Brazil    Panama  0.000010  0.006205  0.993784\n",
            "2    France    Brazil  0.000173  0.007911  0.991916\n",
            "3    Panama   Jamaica  0.004851  0.000117  0.995032\n",
            "4    Panama    France  0.999424  0.000277  0.000299\n",
            "5   Jamaica    Brazil  0.927680  0.002428  0.069892\n",
            "\n",
            "\n",
            "      home_team     away_team      away      draw      home\n",
            "0        Sweden  South Africa  0.000003  0.003862  0.996135\n",
            "1         Italy     Argentina  0.000040  0.012620  0.987340\n",
            "2     Argentina  South Africa  0.000170  0.003603  0.996227\n",
            "3        Sweden         Italy  0.000028  0.026088  0.973884\n",
            "4  South Africa         Italy  0.532582  0.140260  0.327158\n",
            "5     Argentina        Sweden  0.999955  0.000042  0.000003\n",
            "\n",
            "\n",
            "     home_team    away_team      away      draw      home\n",
            "0      Germany      Morocco  0.000037  0.000207  0.999757\n",
            "1     Columbia  South Korea  0.386876  0.107298  0.505827\n",
            "2  South Korea      Morocco  0.000014  0.008192  0.991794\n",
            "3      Germany     Columbia  0.000037  0.000207  0.999757\n",
            "4  South Korea      Germany  0.999012  0.000438  0.000549\n",
            "5      Morocco     Columbia  0.002463  0.000119  0.997418\n",
            "\n",
            "\n"
          ]
        }
      ]
    }
  ]
}