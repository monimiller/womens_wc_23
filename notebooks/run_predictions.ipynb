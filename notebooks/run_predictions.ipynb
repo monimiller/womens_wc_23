{
 "cells": [
  {
   "cell_type": "code",
   "execution_count": null,
   "id": "6dc63f22",
   "metadata": {
    "tags": [
     "parameters"
    ]
   },
   "outputs": [],
   "source": [
    "# declare a list tasks whose products you want to use as inputs\n",
    "upstream = ['train_model']\n",
    "product = None"
   ]
  },
  {
   "cell_type": "markdown",
   "metadata": {
    "colab_type": "text",
    "id": "view-in-github"
   },
   "source": [
    "<a href=\"https://colab.research.google.com/github/monimiller/womens_wc_23/blob/main/run_predictions.ipynb\" target=\"_parent\"><img src=\"https://colab.research.google.com/assets/colab-badge.svg\" alt=\"Open In Colab\"/></a>"
   ]
  },
  {
   "cell_type": "code",
   "execution_count": 1,
   "metadata": {
    "colab": {
     "base_uri": "https://localhost:8080/"
    },
    "id": "uD1pnyPr12Rl",
    "outputId": "8c7cdc91-e7a7-4650-fa10-28dfc802233b"
   },
   "outputs": [
    {
     "name": "stdout",
     "output_type": "stream",
     "text": [
      "Collecting catboost\n",
      "  Downloading catboost-1.2-cp310-cp310-manylinux2014_x86_64.whl (98.6 MB)\n",
      "\u001b[2K     \u001b[90m━━━━━━━━━━━━━━━━━━━━━━━━━━━━━━━━━━━━━━━━\u001b[0m \u001b[32m98.6/98.6 MB\u001b[0m \u001b[31m7.3 MB/s\u001b[0m eta \u001b[36m0:00:00\u001b[0m\n",
      "\u001b[?25hRequirement already satisfied: graphviz in /usr/local/lib/python3.10/dist-packages (from catboost) (0.20.1)\n",
      "Requirement already satisfied: matplotlib in /usr/local/lib/python3.10/dist-packages (from catboost) (3.7.1)\n",
      "Requirement already satisfied: numpy>=1.16.0 in /usr/local/lib/python3.10/dist-packages (from catboost) (1.22.4)\n",
      "Requirement already satisfied: pandas>=0.24 in /usr/local/lib/python3.10/dist-packages (from catboost) (1.5.3)\n",
      "Requirement already satisfied: scipy in /usr/local/lib/python3.10/dist-packages (from catboost) (1.10.1)\n",
      "Requirement already satisfied: plotly in /usr/local/lib/python3.10/dist-packages (from catboost) (5.13.1)\n",
      "Requirement already satisfied: six in /usr/local/lib/python3.10/dist-packages (from catboost) (1.16.0)\n",
      "Requirement already satisfied: python-dateutil>=2.8.1 in /usr/local/lib/python3.10/dist-packages (from pandas>=0.24->catboost) (2.8.2)\n",
      "Requirement already satisfied: pytz>=2020.1 in /usr/local/lib/python3.10/dist-packages (from pandas>=0.24->catboost) (2022.7.1)\n",
      "Requirement already satisfied: contourpy>=1.0.1 in /usr/local/lib/python3.10/dist-packages (from matplotlib->catboost) (1.1.0)\n",
      "Requirement already satisfied: cycler>=0.10 in /usr/local/lib/python3.10/dist-packages (from matplotlib->catboost) (0.11.0)\n",
      "Requirement already satisfied: fonttools>=4.22.0 in /usr/local/lib/python3.10/dist-packages (from matplotlib->catboost) (4.41.0)\n",
      "Requirement already satisfied: kiwisolver>=1.0.1 in /usr/local/lib/python3.10/dist-packages (from matplotlib->catboost) (1.4.4)\n",
      "Requirement already satisfied: packaging>=20.0 in /usr/local/lib/python3.10/dist-packages (from matplotlib->catboost) (23.1)\n",
      "Requirement already satisfied: pillow>=6.2.0 in /usr/local/lib/python3.10/dist-packages (from matplotlib->catboost) (8.4.0)\n",
      "Requirement already satisfied: pyparsing>=2.3.1 in /usr/local/lib/python3.10/dist-packages (from matplotlib->catboost) (3.1.0)\n",
      "Requirement already satisfied: tenacity>=6.2.0 in /usr/local/lib/python3.10/dist-packages (from plotly->catboost) (8.2.2)\n",
      "Installing collected packages: catboost\n",
      "Successfully installed catboost-1.2\n"
     ]
    }
   ],
   "source": []
  },
  {
   "cell_type": "code",
   "execution_count": 2,
   "metadata": {
    "id": "L9ghTvMu10-I"
   },
   "outputs": [],
   "source": [
    "# Basics\n",
    "import pandas as pd\n",
    "import numpy as np\n",
    "# Viz\n",
    "import matplotlib.pyplot as plt\n",
    "import seaborn as sns\n",
    "import plotly.express as px\n",
    "#Catboost\n",
    "from catboost import CatBoostClassifier, CatBoostRegressor"
   ]
  },
  {
   "cell_type": "code",
   "execution_count": 3,
   "metadata": {
    "colab": {
     "base_uri": "https://localhost:8080/"
    },
    "id": "BXhHMnJy1n-R",
    "outputId": "c8034aae-2328-4c3e-e7cb-4ee5e3515c6a"
   },
   "outputs": [
    {
     "name": "stdout",
     "output_type": "stream",
     "text": [
      "--2023-07-18 02:36:19--  https://github.com/monimiller/womens_wc_23/raw/main/models/catboost_model_20230717_2123.cbm\n",
      "Resolving github.com (github.com)... 140.82.112.3\n",
      "Connecting to github.com (github.com)|140.82.112.3|:443... connected.\n",
      "HTTP request sent, awaiting response... 302 Found\n",
      "Location: https://raw.githubusercontent.com/monimiller/womens_wc_23/main/models/catboost_model_20230717_2123.cbm [following]\n",
      "--2023-07-18 02:36:19--  https://raw.githubusercontent.com/monimiller/womens_wc_23/main/models/catboost_model_20230717_2123.cbm\n",
      "Resolving raw.githubusercontent.com (raw.githubusercontent.com)... 185.199.108.133, 185.199.109.133, 185.199.110.133, ...\n",
      "Connecting to raw.githubusercontent.com (raw.githubusercontent.com)|185.199.108.133|:443... connected.\n",
      "HTTP request sent, awaiting response... 200 OK\n",
      "Length: 21314844 (20M) [application/octet-stream]\n",
      "Saving to: ‘catboost_model_20230717_2123.cbm’\n",
      "\n",
      "catboost_model_2023 100%[===================>]  20.33M  41.5MB/s    in 0.5s    \n",
      "\n",
      "2023-07-18 02:36:20 (41.5 MB/s) - ‘catboost_model_20230717_2123.cbm’ saved [21314844/21314844]\n",
      "\n"
     ]
    }
   ],
   "source": [
    "!wget https://github.com/monimiller/womens_wc_23/raw/main/models/catboost_model_20230717_2123.cbm"
   ]
  },
  {
   "cell_type": "code",
   "execution_count": 10,
   "metadata": {
    "id": "ZjvPNfNV1vPe"
   },
   "outputs": [],
   "source": [
    "model = CatBoostClassifier().load_model(upstream['train_model']['model'])\n",
    "teams_performance = pd.read_parquet(upstream['train_model']['teams_performance'])"
   ]
  },
  {
   "cell_type": "code",
   "execution_count": 20,
   "metadata": {
    "id": "V5oaZ-smxH-W"
   },
   "outputs": [],
   "source": [
    "group_a = pd.DataFrame({\n",
    "                      'home_team': ['New Zealand', 'Philippines', 'New Zealand', 'Switzerland'],\n",
    "                      'away_team': ['Norway', 'Switzerland', 'Philippines', 'Norway']\n",
    "                      })\n",
    "\n",
    "group_b = pd.DataFrame({\n",
    "                      'home_team': ['Zambia', 'Philippines', 'Zambia', 'Switzerland'],\n",
    "                      'away_team': ['Norway', 'Switzerland', 'Philippines', 'Norway']\n",
    "                      })\n"
   ]
  },
  {
   "cell_type": "code",
   "execution_count": 6,
   "metadata": {
    "id": "bhPMxE8-yEKm"
   },
   "outputs": [],
   "source": [
    "def encode_variables(df):\n",
    "  \"Input a dataframe and return a dataframe whith categorical variables encoded numericaly\"\n",
    "  # Find categorical vars\n",
    "  cat_vars = df.select_dtypes(include=['object', 'category']).columns\n",
    "  # Loop and transform\n",
    "  for variable in cat_vars:\n",
    "    df[variable] = df[variable].factorize()[0]\n",
    "\n",
    "  return df"
   ]
  },
  {
   "cell_type": "code",
   "execution_count": 22,
   "metadata": {
    "colab": {
     "base_uri": "https://localhost:8080/"
    },
    "id": "FeO992cv4N5H",
    "outputId": "2d7328f6-c153-4a4e-efdf-809c74abc750"
   },
   "outputs": [
    {
     "name": "stdout",
     "output_type": "stream",
     "text": [
      "     home_team    away_team      away      draw      home\n",
      "0  New Zealand       Norway  0.815434  0.167203  0.017363\n",
      "1  Philippines  Switzerland  0.060202  0.008959  0.930839\n",
      "2  New Zealand  Philippines  0.000416  0.013989  0.985596\n",
      "3  Switzerland       Norway  0.816193  0.181277  0.002531\n",
      "     home_team    away_team      away      draw      home\n",
      "0       Zambia       Norway  0.994272  0.003989  0.001739\n",
      "1  Philippines  Switzerland  0.060202  0.008959  0.930839\n",
      "2       Zambia  Philippines  0.003234  0.000127  0.996638\n",
      "3  Switzerland       Norway  0.816193  0.181277  0.002531\n"
     ]
    }
   ],
   "source": [
    "groups = [group_a, group_b]\n",
    "\n",
    "def make_predictions(group_df):\n",
    "    X_input = (\n",
    "    group_df\n",
    "    .merge(teams_performance, left_on= 'home_team', right_on='team', how='left').fillna(0)\n",
    "    .merge(teams_performance, left_on= 'away_team', right_on='team', suffixes=['_home','_away'], how='left').fillna(0) )\n",
    "    X_input.drop(['team_home', 'team_away'], axis=1, inplace=True)\n",
    "\n",
    "    X_input = encode_variables(X_input)\n",
    "    # Results with CatBoost\n",
    "    preds = model.predict_proba(X_input)\n",
    "    # Predictions of the results\n",
    "    group_df['away'] = pd.DataFrame(preds)[0]\n",
    "    group_df['draw'] = pd.DataFrame(preds)[1]\n",
    "    group_df['home'] = pd.DataFrame(preds)[2]\n",
    "\n",
    "    print(group_df)\n",
    "\n",
    "df_predictions = pd.DataFrame()\n",
    "\n",
    "for group in groups:\n",
    "    # Make predictions\n",
    "    prediction = make_predictions(group)\n",
    "    # Add prediction dataframe to df_predictions\n",
    "    df_predictions = pd.concat([df_predictions, prediction])\n",
    "\n",
    "# Save predictions\n",
    "\n",
    "df_predictions.to_parquet(product['predictions'])"
   ]
  }
 ],
 "metadata": {
  "colab": {
   "authorship_tag": "ABX9TyOkxybOGL3QH/6ub25tJio4",
   "include_colab_link": true,
   "provenance": []
  },
  "kernelspec": {
   "display_name": "Python 3",
   "name": "python3"
  },
  "language_info": {
   "name": "python"
  }
 },
 "nbformat": 4,
 "nbformat_minor": 0
}
